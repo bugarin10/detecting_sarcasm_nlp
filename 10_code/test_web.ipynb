{
 "cells": [
  {
   "cell_type": "code",
   "execution_count": 1,
   "metadata": {},
   "outputs": [],
   "source": [
    "import pandas as pd\n",
    "import numpy as np\n",
    "from lib import *\n",
    "\n",
    "general_movies = pd.read_csv(\"../00_data/sample_10_22_rafa.csv\")"
   ]
  },
  {
   "cell_type": "code",
   "execution_count": 4,
   "metadata": {},
   "outputs": [
    {
     "data": {
      "text/html": [
       "<div>\n",
       "<style scoped>\n",
       "    .dataframe tbody tr th:only-of-type {\n",
       "        vertical-align: middle;\n",
       "    }\n",
       "\n",
       "    .dataframe tbody tr th {\n",
       "        vertical-align: top;\n",
       "    }\n",
       "\n",
       "    .dataframe thead th {\n",
       "        text-align: right;\n",
       "    }\n",
       "</style>\n",
       "<table border=\"1\" class=\"dataframe\">\n",
       "  <thead>\n",
       "    <tr style=\"text-align: right;\">\n",
       "      <th></th>\n",
       "      <th>Year</th>\n",
       "      <th>Movie Title</th>\n",
       "    </tr>\n",
       "  </thead>\n",
       "  <tbody>\n",
       "    <tr>\n",
       "      <th>0</th>\n",
       "      <td>2010</td>\n",
       "      <td>Farewell (2009 film)</td>\n",
       "    </tr>\n",
       "    <tr>\n",
       "      <th>1</th>\n",
       "      <td>2010</td>\n",
       "      <td>Predators</td>\n",
       "    </tr>\n",
       "    <tr>\n",
       "      <th>2</th>\n",
       "      <td>2010</td>\n",
       "      <td>Spring Fever (2009 film)</td>\n",
       "    </tr>\n",
       "    <tr>\n",
       "      <th>3</th>\n",
       "      <td>2010</td>\n",
       "      <td>Percy Jackson &amp; the Olympians: The Lightning T...</td>\n",
       "    </tr>\n",
       "    <tr>\n",
       "      <th>4</th>\n",
       "      <td>2010</td>\n",
       "      <td>The Social Network</td>\n",
       "    </tr>\n",
       "    <tr>\n",
       "      <th>5</th>\n",
       "      <td>2010</td>\n",
       "      <td>Eyes Wide Open (2009 film)</td>\n",
       "    </tr>\n",
       "    <tr>\n",
       "      <th>6</th>\n",
       "      <td>2010</td>\n",
       "      <td>Sex and the City 2</td>\n",
       "    </tr>\n",
       "    <tr>\n",
       "      <th>7</th>\n",
       "      <td>2010</td>\n",
       "      <td>Norwegian Wood</td>\n",
       "    </tr>\n",
       "    <tr>\n",
       "      <th>8</th>\n",
       "      <td>2010</td>\n",
       "      <td>What's the Matter with Kansas?</td>\n",
       "    </tr>\n",
       "    <tr>\n",
       "      <th>9</th>\n",
       "      <td>2010</td>\n",
       "      <td>The Extra Man</td>\n",
       "    </tr>\n",
       "  </tbody>\n",
       "</table>\n",
       "</div>"
      ],
      "text/plain": [
       "   Year                                        Movie Title\n",
       "0  2010                               Farewell (2009 film)\n",
       "1  2010                                         Predators \n",
       "2  2010                           Spring Fever (2009 film)\n",
       "3  2010  Percy Jackson & the Olympians: The Lightning T...\n",
       "4  2010                                 The Social Network\n",
       "5  2010                         Eyes Wide Open (2009 film)\n",
       "6  2010                                 Sex and the City 2\n",
       "7  2010                                    Norwegian Wood \n",
       "8  2010                    What's the Matter with Kansas? \n",
       "9  2010                                     The Extra Man "
      ]
     },
     "execution_count": 4,
     "metadata": {},
     "output_type": "execute_result"
    }
   ],
   "source": [
    "general_movies.head(10)"
   ]
  },
  {
   "cell_type": "code",
   "execution_count": 19,
   "metadata": {},
   "outputs": [
    {
     "name": "stdout",
     "output_type": "stream",
     "text": [
      "Error with getting soup\n",
      "Soup was empty\n",
      "Error with Farewell (2009 film)\n"
     ]
    }
   ],
   "source": [
    "critics = {}\n",
    "movies_not_found = []\n",
    "counter = 0\n",
    "\n",
    "for row in general_movies.iterrows():\n",
    "    try:\n",
    "        soup = getting_soup(\n",
    "            row[1][\"Movie Title\"], time_waiting=np.random.randint(5, 15)\n",
    "        )\n",
    "        similiar_movies = getting_movies_from_soup(soup)\n",
    "        # Filtering by year\n",
    "        similiar_movies = {\n",
    "            k: v\n",
    "            for k, v in similiar_movies.items()\n",
    "            if v[\"release_year\"] == str(row[1][\"Year\"])\n",
    "        }\n",
    "        movie_rt_format = list(similiar_movies.keys())[0]\n",
    "        critics[row[1][\"Movie Title\"]] = {\n",
    "            \"formatted_name\": movie_rt_format,\n",
    "            \"top_critics\": getting_critics(movie_rt_format),\n",
    "        }\n",
    "\n",
    "    except:\n",
    "        movies_not_found.append(row[1][\"Movie Title\"])\n",
    "        print(f\"Error with {row[1]['Movie Title']}\")\n",
    "        continue\n",
    "\n",
    "    counter += 1\n",
    "    if counter % 10 == 0:\n",
    "        print(f\"{counter} movies processed\")\n",
    "    elif counter == 100:\n",
    "        print(f\"{counter} movie processed\")\n",
    "        break"
   ]
  }
 ],
 "metadata": {
  "kernelspec": {
   "display_name": "base",
   "language": "python",
   "name": "python3"
  },
  "language_info": {
   "codemirror_mode": {
    "name": "ipython",
    "version": 3
   },
   "file_extension": ".py",
   "mimetype": "text/x-python",
   "name": "python",
   "nbconvert_exporter": "python",
   "pygments_lexer": "ipython3",
   "version": "3.11.5"
  }
 },
 "nbformat": 4,
 "nbformat_minor": 2
}
