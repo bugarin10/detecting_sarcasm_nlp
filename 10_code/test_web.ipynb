{
 "cells": [
  {
   "cell_type": "code",
   "execution_count": 1,
   "metadata": {},
   "outputs": [
    {
     "name": "stdout",
     "output_type": "stream",
     "text": [
      "['Director McQueen, drawing on the visual aesthetic of his previous works Shame and Hunger, never shies away from frames that capture the ways that beauty exists in the most painful situations.', \"12 Years a Slave is, like The Trial, a trapdoor over the abyss. Although less abrupt than Kafka's novel, the movie wastes little time before plunging its viewer into a nightmare of dehumanization.\", 'Ambitious, honest and horrifying all at once, 12 Years a Slave may not be the easiest film to watch more than once, but it will stay with you forever once you see it.', 'Add the visionary direction by Steve McQueen, the British Turner Prize-winning artist turned film-maker (Hunger, Shame) and you have an out-and-out stunner.', 'A significant, necessary piece of work, one that stays with you long after you rise out of your theater seat.', \"Movies can do a great many things - they can make us laugh, or incite our heroism, or frighten us, or make us cry. '12 Years a Slave' makes us feel, deeply and urgently.\", 'It speaks to the courage and resilience of one man, the savagery of many, and the potential, for both good and for ill, in us all.', \"McQueen depicts the horrific experiences of Solomon Northup, the free man kidnapped and sold into slavery, in utterly unflinching fashion. The film's strength lies in its frankness and avoidance of either sentimentality or Quentin Tarantino-style irony.\", \"In its own saintly manner, it's as exploitative as anything critics accused Django Unchained of being, minus Tarantino's eye for idiosyncrasy and sense of humor.\", 'The film tells an irresistibly powerful story, in a way that does not shirk the horror. It is unbearable to watch at times, but that is as it should be.', \"You will recoil. You will flinch. You will say to yourself, 'Oh no, not again.' But the story will seize you with such a visceral power you will be rooted to the spot. I know I was and I'm not easy to root.\", 'A film that, despite its surface simplicity, proves to be riven with contradictions to the point of incoherence.', 'Ejiofor proves himself a master of physical understatement, the clench of his teeth and slightest parting of the lips speaking volumes.', \"A tale of suffering, endurance, courage and abiding humanity about a freeborn man kidnapped and sold into slavery, which packs all the more wallop for the elegance with which it's made.\", \"Ejiofor projects extraordinary integrity, even nobility - and he holds the camera magnificently. It's a deeply inward, deeply felt performance, surely a cert for one of the many Oscars this film must win.\", 'The American South\\'s \"peculiar institution\" has, it seems, become a fit topic for narrative cinema. And it only took a century.', \"12 Years a Slave proves McQueen's formal prowess and, more significantly, his utter seriousness as a dramatist.\", \"12 Years a Slave isn't simply a masterpiece, it's a milestone. This, at last, really is history written with lightning.\", 'Twelve Years a Slave is a magnificent achievement and it is a career best for everyone involved, not least its artist-turned-director, Steve McQueen.', 'The whole film breathes with reality, even while the bayou landscapes are infernalised, surrealised, by a terrible beauty of vision.']\n"
     ]
    }
   ],
   "source": [
    "\"\"\"\n",
    "This code is used to test the web scrapping of the Rotten Tomatoes website.\n",
    "it recover only 20 critics reviews of the selected movie.\n",
    "\"\"\"\n",
    "\n",
    "import requests\n",
    "from bs4 import BeautifulSoup\n",
    "import pandas as pd\n",
    "import numpy as np\n",
    "import time\n",
    "\n",
    "\n",
    "# Webscrapping the MLS Players Association Salary Guide\n",
    "url = \"https://www.rottentomatoes.com/m/12_years_a_slave/reviews?type=top_critics\"\n",
    "\n",
    "# Send an HTTP GET request to the URL\n",
    "response = requests.get(url)\n",
    "\n",
    "# Check if the request was successful (status code 200)\n",
    "if response.status_code == 200:\n",
    "    # Parse the HTML content of the page\n",
    "    soup = BeautifulSoup(response.text, \"html.parser\")\n",
    "\n",
    "    # Find the table with class \"salary-report\" and id \"salary-report\"\n",
    "    table = soup.find(\"table\", {\"class\": \"salary-report\", \"id\": \"salary-report\"})\n",
    "\n",
    "    # Find the <div> with class 'review_table' and data-paginationmanager attribute\n",
    "    review_div = soup.find(\n",
    "        \"div\",\n",
    "        class_=\"review_table\",\n",
    "        attrs={\"data-paginationmanager\": \"paginatedDataContainer\"},\n",
    "    )\n",
    "\n",
    "    # Check if the review_div is found before proceeding\n",
    "    if review_div:\n",
    "        # Find all <p> elements with class 'review-text' and data-qa attribute\n",
    "        review_paragraphs = review_div.find_all(\n",
    "            \"p\", class_=\"review-text\", attrs={\"data-qa\": \"review-quote\"}\n",
    "        )\n",
    "\n",
    "        # Extract and print the text content of each <p> element\n",
    "        review_texts = [paragraph.text for paragraph in review_paragraphs]\n",
    "\n",
    "        # Print the list of review texts\n",
    "        print(review_texts)\n",
    "    else:\n",
    "        print(\"Review div not found.\")\n",
    "\n",
    "\n",
    "(review_texts)"
   ]
  },
  {
   "cell_type": "code",
   "execution_count": 12,
   "metadata": {},
   "outputs": [],
   "source": [
    "import requests\n",
    "from bs4 import BeautifulSoup\n",
    "import pandas as pd\n",
    "import numpy as np\n",
    "from selenium import webdriver\n",
    "from selenium.webdriver.common.by import By\n",
    "from selenium.webdriver.support.ui import WebDriverWait\n",
    "from selenium.webdriver.common.keys import Keys\n",
    "import time\n",
    "\n",
    "# Start a headless browser (Chrome)\n",
    "options = webdriver.ChromeOptions()\n",
    "options.add_argument(\"--headless\")\n",
    "\n",
    "# Set up the WebDriver (make sure to replace 'path/to/chromedriver' with the actual path to your ChromeDriver executable)\n",
    "driver = webdriver.Chrome(options=options)\n",
    "\n",
    "# Navigate to the website\n",
    "driver.get(\n",
    "    \"https://www.rottentomatoes.com/\"\n",
    ")  # Replace 'https://example.com' with the actual URL of the website\n",
    "\n",
    "# Locate the search input field by class and data-qa attribute\n",
    "\n",
    "search_input = driver.find_element(\n",
    "    By.CSS_SELECTOR, 'input.search-text[data-qa=\"search-input\"]'\n",
    ")\n",
    "\n",
    "# Type the movie name into the search input field\n",
    "search_input.send_keys(\"Black Swan\")\n",
    "\n",
    "# Submit the form (if needed, as some websites may require pressing Enter to submit the search)\n",
    "search_input.send_keys(Keys.RETURN)\n",
    "\n",
    "\n",
    "current_url = driver.current_url\n",
    "# Optionally, you can add a delay to see the result on the webpage (adjust the time.sleep value as needed)\n",
    "driver.get(current_url)\n",
    "\n",
    "# Wait for dynamic content to load (you may need to adjust the waiting time)\n",
    "time.sleep(7)\n",
    "\n",
    "# Get the page source after JavaScript execution\n",
    "page_source = driver.page_source\n",
    "\n",
    "# Parse the page source with BeautifulSoup\n",
    "soup = BeautifulSoup(page_source, \"html.parser\")\n",
    "\n",
    "# Close the browser\n",
    "driver.quit()"
   ]
  },
  {
   "cell_type": "code",
   "execution_count": 19,
   "metadata": {},
   "outputs": [
    {
     "name": "stdout",
     "output_type": "stream",
     "text": [
      "[{'cast': 'Natalie Portman,Mila Kunis,Vincent Cassel', 'release_year': '2010', 'tomatometer_score': '85', 'href': 'https://www.rottentomatoes.com/m/black_swan_2010'}, {'cast': 'Melanie Doane,Michael Riley,Ted Dykstra', 'release_year': '2002', 'tomatometer_score': '', 'href': 'https://www.rottentomatoes.com/m/murder_in_hopeville_2002'}, {'cast': \"Tyrone Power,Maureen O'Hara,Laird Cregar\", 'release_year': '1942', 'tomatometer_score': '83', 'href': 'https://www.rottentomatoes.com/m/black_swan'}, {'cast': 'Sam Heughan,Ruby Rose,Hannah John-Kamen', 'release_year': '2021', 'tomatometer_score': '50', 'href': 'https://www.rottentomatoes.com/m/sas_red_notice'}, {'cast': 'Diana Raynova,Zornitza Mladenova,Dorotea Toncheva', 'release_year': '1984', 'tomatometer_score': '', 'href': 'https://www.rottentomatoes.com/m/black_swans'}, {'cast': 'Carice van Houten,Dragan Bakema,Mohammed Chaara', 'release_year': '2005', 'tomatometer_score': '', 'href': 'https://www.rottentomatoes.com/m/zwarte-zwanen-black-swans'}, {'cast': 'Rutger Hauer,Carice van Houten,Liam Cunningham', 'release_year': '2011', 'tomatometer_score': '69', 'href': 'https://www.rottentomatoes.com/m/black_butterflies_2011'}, {'cast': 'Josh Hartnett,Scarlett Johansson,Aaron Eckhart', 'release_year': '2006', 'tomatometer_score': '32', 'href': 'https://www.rottentomatoes.com/m/black_dahlia'}, {'cast': 'Kristy Swanson,Judd Nelson,David Selby', 'release_year': '2006', 'tomatometer_score': '', 'href': 'https://www.rottentomatoes.com/m/black_hole_2006'}, {'cast': 'Marguerite Moreau,Mike Faiola,Brady Smith', 'release_year': '2016', 'tomatometer_score': '', 'href': 'https://www.rottentomatoes.com/m/love_always_santa'}, {'cast': '', 'release_year': '', 'tomatometer_score': '', 'href': 'https://www.rottentomatoes.com/tv/black_sands'}, {'cast': '', 'release_year': '', 'tomatometer_score': '100', 'href': 'https://www.rottentomatoes.com/tv/black_snow'}, {'cast': '', 'release_year': '', 'tomatometer_score': '', 'href': 'https://www.rottentomatoes.com/tv/black_panther'}, {'cast': '', 'release_year': '', 'tomatometer_score': '', 'href': 'https://www.rottentomatoes.com/tv/stankervision'}, {'cast': '', 'release_year': '', 'tomatometer_score': '', 'href': 'https://www.rottentomatoes.com/tv/the_big_black_comedy_show'}, {'cast': '', 'release_year': '', 'tomatometer_score': '47', 'href': 'https://www.rottentomatoes.com/tv/the_messengers'}, {'cast': '', 'release_year': '', 'tomatometer_score': '58', 'href': 'https://www.rottentomatoes.com/tv/the_mick'}, {'cast': '', 'release_year': '', 'tomatometer_score': '', 'href': 'https://www.rottentomatoes.com/tv/x_men_evolution'}, {'cast': '', 'release_year': '', 'tomatometer_score': '', 'href': 'https://www.rottentomatoes.com/tv/black_dog_being_a_teacher'}, {'cast': '', 'release_year': '', 'tomatometer_score': '', 'href': 'https://www.rottentomatoes.com/tv/scarlet_and_black'}]\n"
     ]
    }
   ],
   "source": [
    "media_rows = soup.select('search-page-media-row[data-qa=\"data-row\"]')\n",
    "\n",
    "# Initialize a list to store the extracted information\n",
    "movie_list = []\n",
    "\n",
    "# Loop through each search-page-media-row element and extract information\n",
    "for row in media_rows:\n",
    "    cast = row[\"cast\"]\n",
    "    release_year = row[\"releaseyear\"]\n",
    "    tomatometer_score = row[\"tomatometerscore\"]\n",
    "\n",
    "    # Find the first <a> element with class 'unset' within the current search-page-media-row\n",
    "    link_element = row.find(\"a\", class_=\"unset\")\n",
    "    href = link_element[\"href\"] if link_element else None\n",
    "\n",
    "    # Add the extracted information to the movie_list\n",
    "    movie_list.append(\n",
    "        {\n",
    "            \"cast\": cast,\n",
    "            \"release_year\": release_year,\n",
    "            \"tomatometer_score\": tomatometer_score,\n",
    "            \"href\": href,\n",
    "        }\n",
    "    )\n",
    "\n",
    "# Print the list of movies with extracted information\n",
    "print(movie_list)"
   ]
  },
  {
   "cell_type": "code",
   "execution_count": 20,
   "metadata": {},
   "outputs": [
    {
     "data": {
      "text/plain": [
       "20"
      ]
     },
     "execution_count": 20,
     "metadata": {},
     "output_type": "execute_result"
    }
   ],
   "source": [
    "len(movie_list)"
   ]
  }
 ],
 "metadata": {
  "kernelspec": {
   "display_name": "base",
   "language": "python",
   "name": "python3"
  },
  "language_info": {
   "codemirror_mode": {
    "name": "ipython",
    "version": 3
   },
   "file_extension": ".py",
   "mimetype": "text/x-python",
   "name": "python",
   "nbconvert_exporter": "python",
   "pygments_lexer": "ipython3",
   "version": "3.11.5"
  }
 },
 "nbformat": 4,
 "nbformat_minor": 2
}
